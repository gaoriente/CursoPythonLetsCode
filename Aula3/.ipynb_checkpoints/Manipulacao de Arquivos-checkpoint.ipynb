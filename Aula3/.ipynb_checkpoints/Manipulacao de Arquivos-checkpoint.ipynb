{
 "cells": [
  {
   "cell_type": "markdown",
   "id": "ac3cbb26",
   "metadata": {},
   "source": [
    "# Manipulação de Arquivos"
   ]
  },
  {
   "cell_type": "code",
   "execution_count": 2,
   "id": "10514b10",
   "metadata": {
    "scrolled": true
   },
   "outputs": [
    {
     "name": "stdout",
     "output_type": "stream",
     "text": [
      "Dom Casmurro \n",
      "\n",
      "Texto de referenda: \n",
      "Obras Completas de Machado de Assis, vol. I, \n",
      "Nova Aguilar, Rio de Janeiro, 1994. \n",
      "Publicado originalmente pela Editora Gamier, Rio de Janeiro, 1899. \n",
      "\n",
      "\n",
      "CAPITULO PRIMEIRO \n",
      "DO TITULO \n",
      "\n",
      "Uma noite destas, vindo da cidade para o Engenho Novo, encontrei no trem da \n",
      "Central um rapaz aqui do bairro, que eu conhego de vista e de chapeu. \n",
      "Cumprimentou-me, sentou-se ao pe de mim, falou da Lua e dos ministros, e \n",
      "acabou recitando-me versos. A viagem era curta, e os versos pode ser que nao \n",
      "fossem inteiramente maus. Sucedeu, porem, que, como eu estava cansado, fechei \n",
      "os olhos tres ou quatro vezes; tanto bastou para que ele interrompesse a leitura e \n",
      "metesse os versos no bolso. \n",
      "\n",
      "â€” Continue, disse eu acordando. \n",
      "\n",
      "â€” Ja acabei, murmurou ele. \n",
      "\n",
      "â€” Sao muito bonitos. \n",
      "\n",
      "Vi-lhe fazer um gesto para tira-los outra vez do bolso, mas nao passou do gesto; \n",
      "estava amuado. No dia seguinte entrou a dizer de mim nomes feios, e acabou \n",
      "alcunhando-me Dom Casmurro. Os vizinhos, que nao gostam dos meus habitos \n",
      "reclusos e calados, deram curso a alcunha, que afinal pegou. Nem por isso me \n",
      "zanguei. Contei a anedota aos amigos da cidade, e eles, por graga, chamam-me \n",
      "assim, alguns em bilhetes: \"Dom Casmurro, domingo vou jantar com voceâ€.â€” \n",
      "\"Vou para Petropolis, Dom Casmurro; a casa e a mesma da Renania; ve se deixas \n",
      "essa caverna do Engenho Novo, e vai la passar uns quinze dias comigo\".â€” \"Meu \n",
      "caro Dom Casmurro, nao cuide que o dispenso do teatro amanha; venha e dormira \n",
      "aqui na cidade; dou-lhe camarote, dou-lhe cha, dou-lhe cama; so nao Ihe dou \n",
      "mogaâ€. \n",
      "\n",
      "Nao consultes dicionarios. Casmurro nao esta aqui no sentido que eles Ihe dao, \n",
      "mas no que Ihe pos o vulgo de homem calado e metido consigo. Dom veio por \n",
      "ironia, para atribuir-me fumos de fidalgo. Tudo por estar cochilando! Tambem nao \n",
      "achei melhor titulo para a minha narracao; se nao tiver outro daqui ate ao fim do \n",
      "livro, vai este mesmo. O meu poeta do trem ficara sabendo que nao Ihe guardo \n",
      "rancor. E com pequeno esforco, sendo o titulo seu, podera cuidar que a obra e \n",
      "sua. Ha livros que apenas terao isso dos seus autores; alguns nem tanto. \n"
     ]
    }
   ],
   "source": [
    "arquivo = open('dom_casmurro_cap_1.txt', 'r', encoding='utf-8')\n",
    "texto = arquivo.read()\n",
    "print(texto)\n",
    "arquivo.close()"
   ]
  },
  {
   "cell_type": "code",
   "execution_count": 3,
   "id": "b37be675",
   "metadata": {
    "scrolled": true
   },
   "outputs": [
    {
     "name": "stdout",
     "output_type": "stream",
     "text": [
      "Dom Casmurro \n",
      "\n",
      "Texto de referenda: \n",
      "Obras Completas de Machado de Assis, vol. I, \n",
      "Nova Aguilar, Rio de Janeiro, 1994. \n",
      "Publicado originalmente pela Editora Gamier, Rio de Janeiro, 1899. \n",
      "\n",
      "\n",
      "CAPITULO PRIMEIRO \n",
      "DO TITULO \n",
      "\n",
      "Uma noite destas, vindo da cidade para o Engenho Novo, encontrei no trem da \n",
      "Central um rapaz aqui do bairro, que eu conhego de vista e de chapeu. \n",
      "Cumprimentou-me, sentou-se ao pe de mim, falou da Lua e dos ministros, e \n",
      "acabou recitando-me versos. A viagem era curta, e os versos pode ser que nao \n",
      "fossem inteiramente maus. Sucedeu, porem, que, como eu estava cansado, fechei \n",
      "os olhos tres ou quatro vezes; tanto bastou para que ele interrompesse a leitura e \n",
      "metesse os versos no bolso. \n",
      "\n",
      "â€” Continue, disse eu acordando. \n",
      "\n",
      "â€” Ja acabei, murmurou ele. \n",
      "\n",
      "â€” Sao muito bonitos. \n",
      "\n",
      "Vi-lhe fazer um gesto para tira-los outra vez do bolso, mas nao passou do gesto; \n",
      "estava amuado. No dia seguinte entrou a dizer de mim nomes feios, e acabou \n",
      "alcunhando-me Dom Casmurro. Os vizinhos, que nao gostam dos meus habitos \n",
      "reclusos e calados, deram curso a alcunha, que afinal pegou. Nem por isso me \n",
      "zanguei. Contei a anedota aos amigos da cidade, e eles, por graga, chamam-me \n",
      "assim, alguns em bilhetes: \"Dom Casmurro, domingo vou jantar com voceâ€.â€” \n",
      "\"Vou para Petropolis, Dom Casmurro; a casa e a mesma da Renania; ve se deixas \n",
      "essa caverna do Engenho Novo, e vai la passar uns quinze dias comigo\".â€” \"Meu \n",
      "caro Dom Casmurro, nao cuide que o dispenso do teatro amanha; venha e dormira \n",
      "aqui na cidade; dou-lhe camarote, dou-lhe cha, dou-lhe cama; so nao Ihe dou \n",
      "mogaâ€. \n",
      "\n",
      "Nao consultes dicionarios. Casmurro nao esta aqui no sentido que eles Ihe dao, \n",
      "mas no que Ihe pos o vulgo de homem calado e metido consigo. Dom veio por \n",
      "ironia, para atribuir-me fumos de fidalgo. Tudo por estar cochilando! Tambem nao \n",
      "achei melhor titulo para a minha narracao; se nao tiver outro daqui ate ao fim do \n",
      "livro, vai este mesmo. O meu poeta do trem ficara sabendo que nao Ihe guardo \n",
      "rancor. E com pequeno esforco, sendo o titulo seu, podera cuidar que a obra e \n",
      "sua. Ha livros que apenas terao isso dos seus autores; alguns nem tanto. "
     ]
    }
   ],
   "source": [
    "arquivo = open('dom_casmurro_cap_1.txt', 'r', encoding='utf-8')\n",
    "linha = arquivo.readline()\n",
    "while linha != '': # o vazio significa que chegamos no fim do arquivo\n",
    "    print(linha, end='')\n",
    "    linha = arquivo.readline()\n",
    "arquivo.close() # Nunca esquecer de fechar"
   ]
  },
  {
   "cell_type": "code",
   "execution_count": null,
   "id": "79295fb0",
   "metadata": {},
   "outputs": [],
   "source": [
    "arquivo = open('dom_casmurro_cap_1.txt', 'r', encoding='utf-8')\n",
    "for linha in arquivo:\n",
    "    print(linha, end='')\n",
    "arquivo.close()"
   ]
  }
 ],
 "metadata": {
  "kernelspec": {
   "display_name": "Python 3 (ipykernel)",
   "language": "python",
   "name": "python3"
  },
  "language_info": {
   "codemirror_mode": {
    "name": "ipython",
    "version": 3
   },
   "file_extension": ".py",
   "mimetype": "text/x-python",
   "name": "python",
   "nbconvert_exporter": "python",
   "pygments_lexer": "ipython3",
   "version": "3.9.6"
  }
 },
 "nbformat": 4,
 "nbformat_minor": 5
}
