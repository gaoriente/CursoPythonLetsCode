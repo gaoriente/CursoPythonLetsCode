{
 "cells": [
  {
   "cell_type": "code",
   "execution_count": 15,
   "id": "a624ac7d",
   "metadata": {},
   "outputs": [
    {
     "name": "stdout",
     "output_type": "stream",
     "text": [
      "42\n"
     ]
    }
   ],
   "source": [
    "var1 = 12\n",
    "var2 = 30\n",
    "var3 = var1 + var2\n",
    "print(var3)"
   ]
  },
  {
   "cell_type": "code",
   "execution_count": 17,
   "id": "4a8688b3",
   "metadata": {},
   "outputs": [
    {
     "name": "stdout",
     "output_type": "stream",
     "text": [
      "42\n",
      "21.0\n"
     ]
    }
   ],
   "source": [
    "print(var3)\n",
    "var3 = var3 / 2\n",
    "print(var3)"
   ]
  },
  {
   "cell_type": "code",
   "execution_count": 19,
   "id": "beba98a2",
   "metadata": {},
   "outputs": [
    {
     "name": "stdout",
     "output_type": "stream",
     "text": [
      "Digite um número a seguir: 10\n",
      "False True False\n"
     ]
    }
   ],
   "source": [
    "x = 10\n",
    "y = 4.2\n",
    "\n",
    "num = float(input(\"Digite um número a seguir: \"))\n",
    "\n",
    "print(num > x*y, num <= x + y, num*y != x*y)"
   ]
  },
  {
   "cell_type": "code",
   "execution_count": null,
   "id": "1b40f863",
   "metadata": {},
   "outputs": [],
   "source": [
    "ESPER ABZAN SULTAI DIMIR: DOCE FELIZ AZEDO MONTANHA \n",
    "JESKAI ABZAN GRUUL BANT: DIA PRAIA TRISTE MONTANHA \n",
    "GRIXIS TEMUR MARDU BANT: SALGADO PRAIA BRANCO NOITE \n",
    "BOROS TEMUR GRUUL DIMIR: DIA FELIZ PRETO NOITE\n",
    "    \n",
    "    \n",
    "    gruul = dia\n",
    "    dimir = feliz\n",
    "    \n",
    "    xx felix xx"
   ]
  }
 ],
 "metadata": {
  "kernelspec": {
   "display_name": "Python 3 (ipykernel)",
   "language": "python",
   "name": "python3"
  },
  "language_info": {
   "codemirror_mode": {
    "name": "ipython",
    "version": 3
   },
   "file_extension": ".py",
   "mimetype": "text/x-python",
   "name": "python",
   "nbconvert_exporter": "python",
   "pygments_lexer": "ipython3",
   "version": "3.9.6"
  }
 },
 "nbformat": 4,
 "nbformat_minor": 5
}
