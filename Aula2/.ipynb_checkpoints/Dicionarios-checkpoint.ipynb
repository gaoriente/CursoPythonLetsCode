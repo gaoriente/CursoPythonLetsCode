{
 "cells": [
  {
   "cell_type": "markdown",
   "id": "abbd5aae",
   "metadata": {},
   "source": [
    "# Dicionários"
   ]
  },
  {
   "cell_type": "code",
   "execution_count": 1,
   "id": "32b5cc97",
   "metadata": {},
   "outputs": [],
   "source": [
    "dados_cidade = {\n",
    "    'nome': 'São Paulo', \n",
    "    'estado': 'Sào Paulo',\n",
    "    'area_km2': 1521,\n",
    "    'populacao_milhoes': 12.18\n",
    "}"
   ]
  },
  {
   "cell_type": "code",
   "execution_count": 2,
   "id": "be1b327d",
   "metadata": {},
   "outputs": [
    {
     "name": "stdout",
     "output_type": "stream",
     "text": [
      "<class 'dict'>\n"
     ]
    }
   ],
   "source": [
    "print(type(dados_cidade))"
   ]
  },
  {
   "cell_type": "code",
   "execution_count": 3,
   "id": "b0e70027",
   "metadata": {},
   "outputs": [
    {
     "name": "stdout",
     "output_type": "stream",
     "text": [
      "{'nome': 'São Paulo', 'estado': 'Sào Paulo', 'area_km2': 1521, 'populacao_milhoes': 12.18}\n"
     ]
    }
   ],
   "source": [
    "print(dados_cidade)"
   ]
  },
  {
   "cell_type": "code",
   "execution_count": 4,
   "id": "60e24fe1",
   "metadata": {},
   "outputs": [],
   "source": [
    "dados_cidade['pais'] = 'Brasil'"
   ]
  },
  {
   "cell_type": "code",
   "execution_count": 5,
   "id": "f7947f59",
   "metadata": {},
   "outputs": [
    {
     "name": "stdout",
     "output_type": "stream",
     "text": [
      "{'nome': 'São Paulo', 'estado': 'Sào Paulo', 'area_km2': 1521, 'populacao_milhoes': 12.18, 'pais': 'Brasil'}\n"
     ]
    }
   ],
   "source": [
    "print(dados_cidade)"
   ]
  },
  {
   "cell_type": "code",
   "execution_count": 6,
   "id": "7609c360",
   "metadata": {},
   "outputs": [
    {
     "name": "stdout",
     "output_type": "stream",
     "text": [
      "São Paulo\n"
     ]
    }
   ],
   "source": [
    "print(dados_cidade['nome'])"
   ]
  },
  {
   "cell_type": "code",
   "execution_count": 7,
   "id": "02ac3bcc",
   "metadata": {},
   "outputs": [
    {
     "name": "stdout",
     "output_type": "stream",
     "text": [
      "{'nome': 'São Paulo', 'estado': 'Sào Paulo', 'area_km2': 1500, 'populacao_milhoes': 12.18, 'pais': 'Brasil'}\n"
     ]
    }
   ],
   "source": [
    "dados_cidade['area_km2'] = 1500\n",
    "print(dados_cidade)"
   ]
  },
  {
   "cell_type": "code",
   "execution_count": 8,
   "id": "dad45ad5",
   "metadata": {},
   "outputs": [],
   "source": [
    "dados_cidade_2 = dados_cidade"
   ]
  },
  {
   "cell_type": "code",
   "execution_count": 9,
   "id": "e0f13285",
   "metadata": {},
   "outputs": [],
   "source": [
    "dados_cidade_2['nome'] = 'Santos'"
   ]
  },
  {
   "cell_type": "code",
   "execution_count": 10,
   "id": "64a12f98",
   "metadata": {},
   "outputs": [
    {
     "name": "stdout",
     "output_type": "stream",
     "text": [
      "{'nome': 'Santos', 'estado': 'Sào Paulo', 'area_km2': 1500, 'populacao_milhoes': 12.18, 'pais': 'Brasil'}\n"
     ]
    }
   ],
   "source": [
    "print(dados_cidade)"
   ]
  },
  {
   "cell_type": "code",
   "execution_count": 11,
   "id": "74eb428f",
   "metadata": {},
   "outputs": [],
   "source": [
    "dados_cidade_3 = dados_cidade.copy()"
   ]
  },
  {
   "cell_type": "code",
   "execution_count": 12,
   "id": "d20e6994",
   "metadata": {},
   "outputs": [],
   "source": [
    "dados_cidade_3['estado'] = 'Rio de Janeiro'"
   ]
  },
  {
   "cell_type": "code",
   "execution_count": 13,
   "id": "8a036ec6",
   "metadata": {},
   "outputs": [
    {
     "name": "stdout",
     "output_type": "stream",
     "text": [
      "{'nome': 'Santos', 'estado': 'Sào Paulo', 'area_km2': 1500, 'populacao_milhoes': 12.18, 'pais': 'Brasil'}\n"
     ]
    }
   ],
   "source": [
    "print(dados_cidade)"
   ]
  },
  {
   "cell_type": "code",
   "execution_count": 15,
   "id": "0000297b",
   "metadata": {},
   "outputs": [
    {
     "name": "stdout",
     "output_type": "stream",
     "text": [
      "{'nome': 'Santos', 'estado': 'Sào Paulo', 'area_km2': 1500, 'populacao_milhoes': 15, 'pais': 'Brasil', 'fundacao': '25/01/1554'}\n"
     ]
    }
   ],
   "source": [
    "novos_dados = {\n",
    "    'populacao_milhoes': 15,\n",
    "    'fundacao': '25/01/1554'\n",
    "}\n",
    "\n",
    "dados_cidade.update(novos_dados)\n",
    "print(dados_cidade)"
   ]
  },
  {
   "cell_type": "code",
   "execution_count": 16,
   "id": "6745d5a5",
   "metadata": {},
   "outputs": [
    {
     "ename": "KeyError",
     "evalue": "'prefeito'",
     "output_type": "error",
     "traceback": [
      "\u001b[1;31m---------------------------------------------------------------------------\u001b[0m",
      "\u001b[1;31mKeyError\u001b[0m                                  Traceback (most recent call last)",
      "\u001b[1;32m~\\AppData\\Local\\Temp/ipykernel_18172/940835763.py\u001b[0m in \u001b[0;36m<module>\u001b[1;34m\u001b[0m\n\u001b[1;32m----> 1\u001b[1;33m \u001b[0mdados_cidade\u001b[0m\u001b[1;33m[\u001b[0m\u001b[1;34m'prefeito'\u001b[0m\u001b[1;33m]\u001b[0m \u001b[1;31m#nao esta dentro do dicionario, logo da erro\u001b[0m\u001b[1;33m\u001b[0m\u001b[1;33m\u001b[0m\u001b[0m\n\u001b[0m",
      "\u001b[1;31mKeyError\u001b[0m: 'prefeito'"
     ]
    }
   ],
   "source": [
    "dados_cidade['prefeito'] #nao esta dentro do dicionario, logo da erro"
   ]
  },
  {
   "cell_type": "code",
   "execution_count": 17,
   "id": "6c240964",
   "metadata": {},
   "outputs": [
    {
     "name": "stdout",
     "output_type": "stream",
     "text": [
      "None\n"
     ]
    }
   ],
   "source": [
    "print(dados_cidade.get('prefeito')) #Quando usar get, o valor vem none e nao o erro"
   ]
  },
  {
   "cell_type": "code",
   "execution_count": 18,
   "id": "dbe97b1e",
   "metadata": {},
   "outputs": [
    {
     "name": "stdout",
     "output_type": "stream",
     "text": [
      "dict_keys(['nome', 'estado', 'area_km2', 'populacao_milhoes', 'pais', 'fundacao'])\n",
      "----\n",
      "dict_values(['Santos', 'Sào Paulo', 1500, 15, 'Brasil', '25/01/1554'])\n",
      "----\n",
      "dict_items([('nome', 'Santos'), ('estado', 'Sào Paulo'), ('area_km2', 1500), ('populacao_milhoes', 15), ('pais', 'Brasil'), ('fundacao', '25/01/1554')])\n"
     ]
    }
   ],
   "source": [
    "print(dados_cidade.keys()) # retorna uma lista de chaves de um dicionario\n",
    "print('----')\n",
    "print(dados_cidade.values()) # retorna uma lista de valores de um dicionario\n",
    "print('----')\n",
    "print(dados_cidade.items()) # retorna uma lista de tuplas (chave, valor) de um dicionario"
   ]
  },
  {
   "cell_type": "code",
   "execution_count": null,
   "id": "4e1c98e9",
   "metadata": {},
   "outputs": [],
   "source": []
  }
 ],
 "metadata": {
  "kernelspec": {
   "display_name": "Python 3 (ipykernel)",
   "language": "python",
   "name": "python3"
  },
  "language_info": {
   "codemirror_mode": {
    "name": "ipython",
    "version": 3
   },
   "file_extension": ".py",
   "mimetype": "text/x-python",
   "name": "python",
   "nbconvert_exporter": "python",
   "pygments_lexer": "ipython3",
   "version": "3.9.6"
  }
 },
 "nbformat": 4,
 "nbformat_minor": 5
}
