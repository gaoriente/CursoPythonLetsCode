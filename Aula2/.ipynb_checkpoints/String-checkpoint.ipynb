{
 "cells": [
  {
   "cell_type": "markdown",
   "id": "da1d9fdd",
   "metadata": {},
   "source": [
    "# String"
   ]
  },
  {
   "cell_type": "code",
   "execution_count": 3,
   "id": "dd9e9f93",
   "metadata": {},
   "outputs": [
    {
     "name": "stdout",
     "output_type": "stream",
     "text": [
      "Google\n"
     ]
    }
   ],
   "source": [
    "empresa = 'Google'\n",
    "print(empresa)"
   ]
  },
  {
   "cell_type": "code",
   "execution_count": 4,
   "id": "53d4d755",
   "metadata": {},
   "outputs": [
    {
     "name": "stdout",
     "output_type": "stream",
     "text": [
      "Google\n"
     ]
    }
   ],
   "source": [
    "empresa = \"Google\"\n",
    "print(empresa)"
   ]
  },
  {
   "cell_type": "code",
   "execution_count": 5,
   "id": "a0ad2442",
   "metadata": {},
   "outputs": [
    {
     "ename": "SyntaxError",
     "evalue": "invalid syntax (Temp/ipykernel_13928/2163815922.py, line 1)",
     "output_type": "error",
     "traceback": [
      "\u001b[1;36m  File \u001b[1;32m\"C:\\Users\\gabri\\AppData\\Local\\Temp/ipykernel_13928/2163815922.py\"\u001b[1;36m, line \u001b[1;32m1\u001b[0m\n\u001b[1;33m    empresa = 'Let's Code'\u001b[0m\n\u001b[1;37m                   ^\u001b[0m\n\u001b[1;31mSyntaxError\u001b[0m\u001b[1;31m:\u001b[0m invalid syntax\n"
     ]
    }
   ],
   "source": [
    "empresa = 'Let's Code'"
   ]
  },
  {
   "cell_type": "code",
   "execution_count": 6,
   "id": "592f58a2",
   "metadata": {},
   "outputs": [],
   "source": [
    "empresa = \"Let's Code\""
   ]
  },
  {
   "cell_type": "code",
   "execution_count": 4,
   "id": "88920f1d",
   "metadata": {},
   "outputs": [
    {
     "name": "stdout",
     "output_type": "stream",
     "text": [
      "O professor Pietro da Let's Code disse: \"Hoje a pizza é por minha conta\"\n"
     ]
    }
   ],
   "source": [
    "frase = \"O professor Pietro da Let's Code disse: \\\"Hoje a pizza é por minha conta\\\"\"\n",
    "print(frase)"
   ]
  },
  {
   "cell_type": "code",
   "execution_count": 6,
   "id": "2f10896b",
   "metadata": {},
   "outputs": [
    {
     "name": "stdout",
     "output_type": "stream",
     "text": [
      "G\n"
     ]
    }
   ],
   "source": [
    "empresa = 'Google'\n",
    "print(empresa[0])"
   ]
  },
  {
   "cell_type": "code",
   "execution_count": 7,
   "id": "515faf3d",
   "metadata": {},
   "outputs": [
    {
     "name": "stdout",
     "output_type": "stream",
     "text": [
      "Goo\n"
     ]
    }
   ],
   "source": [
    "print(empresa[:3])"
   ]
  },
  {
   "cell_type": "code",
   "execution_count": 11,
   "id": "01ec8d1c",
   "metadata": {},
   "outputs": [
    {
     "name": "stdout",
     "output_type": "stream",
     "text": [
      "['São Paulo', 'Belo Horizonte', 'Rio de Janeiro', 'Brasília']\n"
     ]
    }
   ],
   "source": [
    "nomes_cidades = \"São Paulo, Belo Horizonte, Rio de Janeiro, Brasília\"\n",
    "nomes_cidades = nomes_cidades.split(', ')\n",
    "print(nomes_cidades)"
   ]
  },
  {
   "cell_type": "code",
   "execution_count": 12,
   "id": "c6d5c2a1",
   "metadata": {},
   "outputs": [
    {
     "name": "stdout",
     "output_type": "stream",
     "text": [
      "MENU PRINCIPAL\n"
     ]
    }
   ],
   "source": [
    "cabecalho = \"                 MENU PRINCIPAL             \"\n",
    "print(cabecalho.strip())"
   ]
  },
  {
   "cell_type": "code",
   "execution_count": 13,
   "id": "baf4383d",
   "metadata": {},
   "outputs": [
    {
     "name": "stdout",
     "output_type": "stream",
     "text": [
      "Rio De Janeiro\n",
      "Rio de janeiro\n",
      "rio de janeiro\n",
      "RIO DE JANEIRO\n"
     ]
    }
   ],
   "source": [
    "nome_cidade = \"RIo DE JanEiRO\"\n",
    "\n",
    "print(nome_cidade.title()) #Rio De Janeiro\n",
    "print(nome_cidade.capitalize()) # Rio de Janeiro\n",
    "print(nome_cidade.lower()) # rio de janeiro\n",
    "print(nome_cidade.upper()) # RIO DE JANEIRO"
   ]
  },
  {
   "cell_type": "code",
   "execution_count": 14,
   "id": "1fc0cd8a",
   "metadata": {},
   "outputs": [
    {
     "name": "stdout",
     "output_type": "stream",
     "text": [
      "Que cidade do Brasil é conhecida como cidade maravilhosa?rio di janeiro\n",
      "Tenta de novo, vai!\n",
      "Que cidade do Brasil é conhecida como cidade maravilhosa?RIO DE JANEIRO\n",
      "Boaa, campeão\n"
     ]
    }
   ],
   "source": [
    "nome_cidade = input('Que cidade do Brasil é conhecida como cidade maravilhosa?')\n",
    "nome_cidade = nome_cidade.strip()\n",
    "while nome_cidade.lower() != 'rio de janeiro':\n",
    "    print('Tenta de novo, vai!')\n",
    "    nome_cidade = input('Que cidade do Brasil é conhecida como cidade maravilhosa?')\n",
    "    \n",
    "print('Boaa, campeão')"
   ]
  },
  {
   "cell_type": "code",
   "execution_count": 15,
   "id": "e4046d69",
   "metadata": {},
   "outputs": [
    {
     "name": "stdout",
     "output_type": "stream",
     "text": [
      "True\n"
     ]
    }
   ],
   "source": [
    "mensagem = 'Você viu o que o Pietro disse na sala ontem?'\n",
    "fui_citado = 'Pietro' in mensagem\n",
    "print(fui_citado)"
   ]
  },
  {
   "cell_type": "code",
   "execution_count": null,
   "id": "1739dea9",
   "metadata": {},
   "outputs": [],
   "source": []
  }
 ],
 "metadata": {
  "kernelspec": {
   "display_name": "Python 3 (ipykernel)",
   "language": "python",
   "name": "python3"
  },
  "language_info": {
   "codemirror_mode": {
    "name": "ipython",
    "version": 3
   },
   "file_extension": ".py",
   "mimetype": "text/x-python",
   "name": "python",
   "nbconvert_exporter": "python",
   "pygments_lexer": "ipython3",
   "version": "3.9.6"
  }
 },
 "nbformat": 4,
 "nbformat_minor": 5
}
