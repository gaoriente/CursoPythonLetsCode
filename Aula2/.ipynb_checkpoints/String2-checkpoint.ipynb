{
 "cells": [
  {
   "cell_type": "markdown",
   "id": "f857ffd3",
   "metadata": {},
   "source": [
    "# String II"
   ]
  },
  {
   "cell_type": "code",
   "execution_count": 2,
   "id": "39aa9136",
   "metadata": {},
   "outputs": [
    {
     "name": "stdout",
     "output_type": "stream",
     "text": [
      "Olá, Gabriel\n"
     ]
    }
   ],
   "source": [
    "cumprimento = 'Olá, '\n",
    "nome = 'Gabriel'\n",
    "print(cumprimento + nome)"
   ]
  },
  {
   "cell_type": "code",
   "execution_count": 3,
   "id": "1cffb399",
   "metadata": {},
   "outputs": [
    {
     "name": "stdout",
     "output_type": "stream",
     "text": [
      "GabrielGabrielGabrielGabrielGabriel\n"
     ]
    }
   ],
   "source": [
    "print(nome * 5)"
   ]
  },
  {
   "cell_type": "code",
   "execution_count": 5,
   "id": "582a6409",
   "metadata": {},
   "outputs": [
    {
     "name": "stdout",
     "output_type": "stream",
     "text": [
      "Gabriel tem 26 anos e 0 filhos.\n"
     ]
    }
   ],
   "source": [
    "nome = 'Gabriel'\n",
    "idade = 26\n",
    "n_filhos = 0\n",
    "print(nome + ' tem ' + str(idade) + ' anos e ' + str(n_filhos) + ' filhos.')"
   ]
  },
  {
   "cell_type": "code",
   "execution_count": 7,
   "id": "295f9356",
   "metadata": {},
   "outputs": [
    {
     "name": "stdout",
     "output_type": "stream",
     "text": [
      "Gabriel tem 26 anos e 0 filhos.\n"
     ]
    }
   ],
   "source": [
    "print('{} tem {} anos e {} filhos.'.format(nome, idade, n_filhos))"
   ]
  },
  {
   "cell_type": "code",
   "execution_count": 8,
   "id": "1476827a",
   "metadata": {},
   "outputs": [
    {
     "name": "stdout",
     "output_type": "stream",
     "text": [
      "O preço da gasolina hoje subiu e está em R$ 3.48\n"
     ]
    }
   ],
   "source": [
    "preco_gasolina = 3.476\n",
    "print('O preço da gasolina hoje subiu e está em R$ {:.2f}'.format(preco_gasolina)) # significado {:.2f} = 2 significa numero de casas e f uma flag para dizer que o numero eh float"
   ]
  },
  {
   "cell_type": "code",
   "execution_count": 9,
   "id": "12ba5518",
   "metadata": {},
   "outputs": [
    {
     "data": {
      "text/plain": [
       "'Gabriel tem 26 anos e 0 filhos.'"
      ]
     },
     "execution_count": 9,
     "metadata": {},
     "output_type": "execute_result"
    }
   ],
   "source": [
    "print(f'{nome} tem {idade} anos e {n_filhos} filhos.')"
   ]
  },
  {
   "cell_type": "code",
   "execution_count": null,
   "id": "a22efadf",
   "metadata": {},
   "outputs": [],
   "source": []
  }
 ],
 "metadata": {
  "kernelspec": {
   "display_name": "Python 3 (ipykernel)",
   "language": "python",
   "name": "python3"
  },
  "language_info": {
   "codemirror_mode": {
    "name": "ipython",
    "version": 3
   },
   "file_extension": ".py",
   "mimetype": "text/x-python",
   "name": "python",
   "nbconvert_exporter": "python",
   "pygments_lexer": "ipython3",
   "version": "3.9.6"
  }
 },
 "nbformat": 4,
 "nbformat_minor": 5
}
