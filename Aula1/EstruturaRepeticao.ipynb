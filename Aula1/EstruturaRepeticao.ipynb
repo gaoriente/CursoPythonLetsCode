{
 "cells": [
  {
   "cell_type": "code",
   "execution_count": 1,
   "id": "da74f74e",
   "metadata": {},
   "outputs": [
    {
     "name": "stdout",
     "output_type": "stream",
     "text": [
      "1 item limpo\n",
      "2 itens limpos\n",
      "3 itens limpos\n",
      "4 itens limpos\n",
      "5 itens limpos\n",
      "6 itens limpos\n",
      "7 itens limpos\n",
      "8 itens limpos\n",
      "9 itens limpos\n",
      "10 itens limpos\n",
      "Fim da repetição do bloco while\n"
     ]
    }
   ],
   "source": [
    "contador = 0\n",
    "\n",
    "while contador < 10:\n",
    "    contador = contador + 1\n",
    "    if contador == 1:\n",
    "        print(contador, \"item limpo\")\n",
    "    else:\n",
    "        print(contador, \"itens limpos\")\n",
    "    \n",
    "print('Fim da repetição do bloco while')"
   ]
  },
  {
   "cell_type": "code",
   "execution_count": 2,
   "id": "51d23c9e",
   "metadata": {},
   "outputs": [
    {
     "name": "stdout",
     "output_type": "stream",
     "text": [
      "1 item limpo\n",
      "2 itens limpos\n",
      "3 itens limpos\n",
      "4 itens limpos\n",
      "5 itens limpos\n",
      "6 itens limpos\n",
      "7 itens limpos\n",
      "8 itens limpos\n",
      "9 itens limpos\n",
      "10 itens limpos\n",
      "Fim da repetição do bloco while\n"
     ]
    }
   ],
   "source": [
    "contador = 0\n",
    "\n",
    "while True:\n",
    "    if contador < 10:\n",
    "        contador = contador + 1\n",
    "        if contador == 1:\n",
    "            print(contador, \"item limpo\")\n",
    "        else:\n",
    "            print(contador, \"itens limpos\")\n",
    "    else:\n",
    "        break\n",
    "        \n",
    "print('Fim da repetição do bloco while')"
   ]
  },
  {
   "cell_type": "code",
   "execution_count": 3,
   "id": "7f03f42e",
   "metadata": {},
   "outputs": [
    {
     "name": "stdout",
     "output_type": "stream",
     "text": [
      "Digite a sua senha: 12\n",
      "Senha incorreta. Tente novamente123\n",
      "Senha incorreta. Tente novamenteteste\n",
      "Acesso permitido!\n"
     ]
    }
   ],
   "source": [
    "texto = input('Digite a sua senha: ')\n",
    "\n",
    "while texto != 'teste':\n",
    "    texto = input('Senha incorreta. Tente novamente')\n",
    "\n",
    "print('Acesso permitido!')"
   ]
  },
  {
   "cell_type": "code",
   "execution_count": 4,
   "id": "32261079",
   "metadata": {},
   "outputs": [
    {
     "name": "stdout",
     "output_type": "stream",
     "text": [
      "2 itens limpos\n",
      "3 itens limpos\n",
      "4 itens limpos\n",
      "5 itens limpos\n",
      "6 itens limpos\n",
      "7 itens limpos\n",
      "8 itens limpos\n",
      "9 itens limpos\n",
      "10 itens limpos\n",
      "Fim da repetição do bloco while\n"
     ]
    }
   ],
   "source": [
    "contador = 0\n",
    "\n",
    "while contador < 10:\n",
    "    contador = contador + 1\n",
    "    if contador == 1:\n",
    "        continue    \n",
    "    print(contador, \"itens limpos\")\n",
    "    \n",
    "print('Fim da repetição do bloco while')"
   ]
  },
  {
   "cell_type": "code",
   "execution_count": null,
   "id": "ecef07eb",
   "metadata": {},
   "outputs": [],
   "source": []
  }
 ],
 "metadata": {
  "kernelspec": {
   "display_name": "Python 3 (ipykernel)",
   "language": "python",
   "name": "python3"
  },
  "language_info": {
   "codemirror_mode": {
    "name": "ipython",
    "version": 3
   },
   "file_extension": ".py",
   "mimetype": "text/x-python",
   "name": "python",
   "nbconvert_exporter": "python",
   "pygments_lexer": "ipython3",
   "version": "3.9.6"
  }
 },
 "nbformat": 4,
 "nbformat_minor": 5
}
